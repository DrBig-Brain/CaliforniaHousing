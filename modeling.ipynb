{
 "cells": [
  {
   "cell_type": "code",
   "execution_count": 1,
   "id": "f1384618",
   "metadata": {},
   "outputs": [],
   "source": [
    "from sklearn.model_selection import GridSearchCV"
   ]
  },
  {
   "cell_type": "code",
   "execution_count": 2,
   "id": "b9affa2c",
   "metadata": {},
   "outputs": [],
   "source": [
    "import pandas as pd\n",
    "X=pd.read_csv('X.csv').values\n",
    "y=pd.read_csv('y.csv').values.ravel()"
   ]
  },
  {
   "cell_type": "code",
   "execution_count": null,
   "id": "e42bd15e",
   "metadata": {},
   "outputs": [],
   "source": [
    "from sklearn.ensemble import AdaBoostRegressor\n",
    "abr=AdaBoostRegressor()\n",
    "abr_grid={'n_estimators':[10,25,50,75,100,150],\n",
    "'learning_rate':[0.01,0.1,1]}\n",
    "abr_cv=GridSearchCV(abr,abr_grid,cv=10)\n",
    "abr_cv.fit(X,y)\n",
    "print(abr_cv.best_score_)\n",
    "print(abr_cv.best_params_)"
   ]
  },
  {
   "cell_type": "code",
   "execution_count": null,
   "id": "65baa63d",
   "metadata": {},
   "outputs": [],
   "source": [
    "from sklearn.ensemble import RandomForestRegressor\n",
    "rfr = RandomForestRegressor()\n",
    "rfr_grid = {'n_estimators':[25,50,100,150],\n",
    "            'max_depth':[3,5,7],\n",
    "            'max_features':[2,3,4],\n",
    "            'max_leaf_nodes':[4,8,16],\n",
    "            'min_samples_split':[2,3]}\n",
    "rfr_cv = GridSearchCV(rfr,rfr_grid,cv=10)\n",
    "rfr_cv.fit(X,y)\n",
    "print(rfr_cv.best_parameters_)\n",
    "print(rfr_cv.best_score_)"
   ]
  },
  {
   "cell_type": "code",
   "execution_count": null,
   "id": "77736081",
   "metadata": {},
   "outputs": [],
   "source": [
    "from sklearn.ensemble import GradientBoostingRegressor\n",
    "gbr = GradientBoostingRegressor()\n",
    "gbr_grid = {'n_estimators':[25,50,100,150],\n",
    "            'learning_rate':[0.01,0.1,1],\n",
    "            'min_samples_split':[2,3,4],\n",
    "            'max_leaf_nodes':[4,8,16],\n",
    "            }\n",
    "gbr_cv=GridSearchCV(gbr,gbr_grid,cv=10)\n",
    "gbr_cv.fit(X,y)\n",
    "print(gbr_cv.best_score_)\n",
    "print(gbr_cv.best_params_)"
   ]
  }
 ],
 "metadata": {
  "kernelspec": {
   "display_name": "Python 3",
   "language": "python",
   "name": "python3"
  },
  "language_info": {
   "codemirror_mode": {
    "name": "ipython",
    "version": 3
   },
   "file_extension": ".py",
   "mimetype": "text/x-python",
   "name": "python",
   "nbconvert_exporter": "python",
   "pygments_lexer": "ipython3",
   "version": "3.12.6"
  }
 },
 "nbformat": 4,
 "nbformat_minor": 5
}
